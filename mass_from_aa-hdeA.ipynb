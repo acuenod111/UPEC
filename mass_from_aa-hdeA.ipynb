{
 "cells": [
  {
   "cell_type": "code",
   "execution_count": 2,
   "metadata": {},
   "outputs": [],
   "source": [
    "import Bio\n",
    "from Bio.SeqUtils import molecular_weight\n",
    "import os\n",
    "from Bio import SeqIO\n",
    "from Bio import Phylo\n",
    "import glob\n",
    "from Bio.Alphabet import IUPAC\n",
    "import csv\n",
    "import pandas as pd\n",
    "import numpy as np\n",
    "from scipy.cluster.hierarchy import dendrogram, linkage\n",
    "from scipy.spatial.distance import pdist\n",
    "from matplotlib import pyplot as plt\n",
    "import functools\n",
    "from scipy.cluster import hierarchy\n",
    "from Bio.SeqUtils.ProtParam import ProteinAnalysis\n",
    "from Bio.Alphabet import generic_protein\n",
    "import re"
   ]
  },
  {
   "cell_type": "code",
   "execution_count": 3,
   "metadata": {},
   "outputs": [],
   "source": [
    "input_file = \"/Users/aline/Doc.Mobility/01_Data/03_sequences/06_nonribosomal-targets/hdeA_aa_nostop.fas\"\n",
    "hdeA = SeqIO.to_dict(SeqIO.parse(input_file, \"fasta\", alphabet =generic_protein))"
   ]
  },
  {
   "cell_type": "code",
   "execution_count": 4,
   "metadata": {},
   "outputs": [],
   "source": [
    "# hdeA has a 21 aa long signal peptide, cut this\n",
    "masses = dict()\n",
    "for header, value in hdeA.items():\n",
    "    masses[header] =  molecular_weight(hdeA[header].seq[21:], \"protein\")\n",
    "\n",
    "massesdf = pd.DataFrame.from_dict(masses,orient='index')\n",
    "massesdf.to_csv( \"/Users/aline/Doc.Mobility/01_Data/03_sequences/06_nonribosomal-targets/hdeA_masses.csv\", sep='\\t', encoding='utf-8')"
   ]
  },
  {
   "cell_type": "code",
   "execution_count": null,
   "metadata": {},
   "outputs": [],
   "source": []
  },
  {
   "cell_type": "code",
   "execution_count": null,
   "metadata": {},
   "outputs": [],
   "source": []
  },
  {
   "cell_type": "code",
   "execution_count": null,
   "metadata": {},
   "outputs": [],
   "source": []
  },
  {
   "cell_type": "code",
   "execution_count": null,
   "metadata": {},
   "outputs": [],
   "source": []
  }
 ],
 "metadata": {
  "kernelspec": {
   "display_name": "Python 3",
   "language": "python",
   "name": "python_3.6"
  },
  "language_info": {
   "codemirror_mode": {
    "name": "ipython",
    "version": 3
   },
   "file_extension": ".py",
   "mimetype": "text/x-python",
   "name": "python",
   "nbconvert_exporter": "python",
   "pygments_lexer": "ipython3",
   "version": "3.6.11"
  }
 },
 "nbformat": 4,
 "nbformat_minor": 2
}
